{
 "cells": [
  {
   "cell_type": "markdown",
   "metadata": {},
   "source": [
    "Q1. What is Abstraction in OOps? Explain with an example."
   ]
  },
  {
   "cell_type": "code",
   "execution_count": 1,
   "metadata": {},
   "outputs": [],
   "source": [
    "\"\"\"\n",
    "Abstraction is a fundamental concept in OOPs that involves creating a simplified representation of a complex system or entity by focusing on its essential features and behaviors while hiding the underlying details. It allows developers to manage complexity and create more modular and maintainable code.\n",
    "\"\"\"\n",
    "class Car:\n",
    "    def __init__(self, speed, fuel_level, damage):\n",
    "        self.speed = speed\n",
    "        self.fuel_level = fuel_level\n",
    "        self.damage = damage\n",
    "    def accelerate(self):\n",
    "        self.speed += 10\n",
    "    def brake(self):\n",
    "        self.speed -= 10\n",
    "    def refuel(self):\n",
    "        self.fuel_level += 10\n",
    "    def repair(self):\n",
    "        self.damage -= 10\n"
   ]
  },
  {
   "cell_type": "markdown",
   "metadata": {},
   "source": [
    "Q2. Differentiate between Abstraction and Encapsulation. Explain with an example.\n"
   ]
  },
  {
   "cell_type": "code",
   "execution_count": null,
   "metadata": {},
   "outputs": [],
   "source": [
    "class Car:\n",
    "    def __init__(self, speed, fuel_level, damage):\n",
    "        self.__speed = speed  # Private attribute\n",
    "        self.fuel_level = fuel_level\n",
    "        self.damage = damage\n",
    "    def accelerate(self):\n",
    "        self.__speed += 10\n",
    "    def get_speed(self):  # Public method to access private attribute\n",
    "        return self.__speed\n",
    "    def brake(self):\n",
    "        self.__speed -= 10\n",
    "    def refuel(self):\n",
    "        self.fuel_level += 10\n",
    "    def repair(self):\n",
    "        self.damage -= 10\n"
   ]
  },
  {
   "cell_type": "markdown",
   "metadata": {},
   "source": [
    "Q3. What is abc module in python? Why is it used?"
   ]
  },
  {
   "cell_type": "code",
   "execution_count": 2,
   "metadata": {},
   "outputs": [],
   "source": [
    "# The abc module in Python stands for Abstract Base Classes. \n",
    "# It is used to define abstract base classes and abstract methods, and provides a way to enforce the presence of these methods in the derived classes."
   ]
  },
  {
   "cell_type": "markdown",
   "metadata": {},
   "source": [
    "Q4. How can we achieve data abstraction?"
   ]
  },
  {
   "cell_type": "code",
   "execution_count": 3,
   "metadata": {},
   "outputs": [
    {
     "name": "stdout",
     "output_type": "stream",
     "text": [
      "This is a concrete implementation of the abstract method\n"
     ]
    }
   ],
   "source": [
    "from abc import ABC, abstractmethod\n",
    "\n",
    "class MyAbstractClass(ABC):\n",
    "    @abstractmethod\n",
    "    def my_abstract_method(self):\n",
    "        pass\n",
    "\n",
    "class MyClass(MyAbstractClass):\n",
    "    def my_abstract_method(self):\n",
    "\n",
    "        print(\"This is a concrete implementation of the abstract method\")\n",
    "\n",
    "my_object = MyClass()\n",
    "my_object.my_abstract_method()"
   ]
  },
  {
   "cell_type": "markdown",
   "metadata": {},
   "source": [
    "Q5. Can we create an instance of an abstract class? Explain your answer."
   ]
  },
  {
   "cell_type": "code",
   "execution_count": 5,
   "metadata": {},
   "outputs": [],
   "source": [
    "from abc import ABC, abstractmethod\n",
    "\n",
    "class AbstractClassExample(ABC):\n",
    "    @abstractmethod\n",
    "    def do_something(self):\n",
    "        pass"
   ]
  }
 ],
 "metadata": {
  "kernelspec": {
   "display_name": "Python 3",
   "language": "python",
   "name": "python3"
  },
  "language_info": {
   "codemirror_mode": {
    "name": "ipython",
    "version": 3
   },
   "file_extension": ".py",
   "mimetype": "text/x-python",
   "name": "python",
   "nbconvert_exporter": "python",
   "pygments_lexer": "ipython3",
   "version": "3.11.3"
  }
 },
 "nbformat": 4,
 "nbformat_minor": 2
}
